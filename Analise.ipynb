{
 "cells": [
  {
   "cell_type": "code",
   "execution_count": 713,
   "metadata": {},
   "outputs": [],
   "source": [
    "import pandas as pd\n",
    "import matplotlib.pyplot as plt\n",
    "from sklearn.model_selection import train_test_split\n",
    "from sklearn.ensemble import RandomForestClassifier\n",
    "from sklearn.metrics import accuracy_score\n",
    "from sklearn.ensemble import RandomForestRegressor\n",
    "import seaborn as sns"
   ]
  },
  {
   "cell_type": "markdown",
   "metadata": {},
   "source": [
    "# Lendo Data Set"
   ]
  },
  {
   "cell_type": "code",
   "execution_count": 564,
   "metadata": {},
   "outputs": [],
   "source": [
    "Linha = pd.read_csv('dataLinha_sem_times.csv')"
   ]
  },
  {
   "cell_type": "markdown",
   "metadata": {},
   "source": [
    "# Analise Exploratoria"
   ]
  },
  {
   "cell_type": "code",
   "execution_count": 639,
   "metadata": {},
   "outputs": [],
   "source": [
    "position=[]\n",
    "positionGeneral=['Defesa', 'Meio de Campo', 'Ataque']\n",
    "\n",
    "priceGeneral=[]\n",
    "\n",
    "for a in Linha.Position:\n",
    "    if a not in position:\n",
    "        position.append(a)"
   ]
  },
  {
   "cell_type": "code",
   "execution_count": 640,
   "metadata": {},
   "outputs": [],
   "source": [
    "defenders=0\n",
    "midfield=0\n",
    "attack=0\n",
    "\n",
    "for a,price in enumerate(Linha.Price):\n",
    "    if Linha.Position.iloc[a]=='Centre-Back' or Linha.Position.iloc[a]=='Left-Back' or Linha.Position.iloc[a]=='Right-Back':\n",
    "        defenders+=price\n",
    "        \n",
    "priceDefenders=defenders/(len(Linha[Linha.Position=='Left-Back']) + len(Linha[Linha.Position=='Right-Back']) + len(Linha[Linha.Position=='Centre-Back']))\n",
    "priceGeneral.append(priceDefenders)\n",
    "\n",
    "\n",
    "for a,price in enumerate(Linha.Price):\n",
    "    if Linha.Position.iloc[a]=='Defensive Midfield' or Linha.Position.iloc[a]=='Central Midfield' or Linha.Position.iloc[a]=='Attacking Midfield' or Linha.Position.iloc[a]=='Left Midfield' or Linha.Position.iloc[a]=='Right Midfield':\n",
    "        midfield+=price\n",
    "        \n",
    "priceMidfield= midfield/(len(Linha[Linha.Position=='Defensive Midfield']) + len(Linha[Linha.Position=='Central Midfield']) + len(Linha[Linha.Position=='Attacking Midfield']) + len(Linha[Linha.Position=='Left Midfield']) + len(Linha[Linha.Position=='Right Midfield']))\n",
    "priceGeneral.append(priceMidfield)\n",
    "\n",
    "\n",
    "for a,price in enumerate(Linha.Price):\n",
    "    if Linha.Position.iloc[a]=='Left Winger' or Linha.Position.iloc[a]=='Right Winger' or Linha.Position.iloc[a]=='Centre-Forward' or Linha.Position.iloc[a]=='Second Striker':\n",
    "        attack+=price\n",
    "        \n",
    "priceAttack= attack/(len(Linha[Linha.Position=='Left Winger']) + len(Linha[Linha.Position=='Right Winger']) + len(Linha[Linha.Position=='Centre-Forward']) + len(Linha[Linha.Position=='Second Striker']))\n",
    "priceGeneral.append(priceAttack) "
   ]
  },
  {
   "cell_type": "code",
   "execution_count": 642,
   "metadata": {},
   "outputs": [
    {
     "data": {
      "text/plain": [
       "<BarContainer object of 3 artists>"
      ]
     },
     "execution_count": 642,
     "metadata": {},
     "output_type": "execute_result"
    },
    {
     "data": {
      "image/png": "[encoded data removed]",
      "text/plain": [
       "<Figure size 432x288 with 1 Axes>"
      ]
     },
     "metadata": {
      "needs_background": "light"
     },
     "output_type": "display_data"
    }
   ],
   "source": [
    "fig = plt.figure()\n",
    "ax = fig.add_axes([0,0,1,1])\n",
    "\n",
    "ax.bar(positionGeneral,priceGeneral)"
   ]
  },
  {
   "cell_type": "markdown",
   "metadata": {},
   "source": [
    "Para este gráfico os jogadores de defesa foram separados no grupo 'Defesa', todos os meio campistas foram separados no grupo 'Meio de Campo' e os atacantes no grupo 'Ataque'. Com este gráfico percebemos claramente que os atacantes são, em média, os jogadores mais caros em quanto os defensores os mais baratos."
   ]
  },
  {
   "cell_type": "code",
   "execution_count": 659,
   "metadata": {},
   "outputs": [
    {
     "name": "stdout",
     "output_type": "stream",
     "text": [
      "{'Centre-Back': 16319852.94117647, 'Left-Back': 13850000.0, 'Right-Back': 13546323.529411765, 'Defensive Midfield': 17120689.655172415, 'Central Midfield': 18759433.96226415, 'Attacking Midfield': 33687500.0, 'Left Winger': 36227272.72727273, 'Right Winger': 30825000.0, 'Centre-Forward': 20880681.818181816, 'Left Midfield': 12166666.666666666, 'Right Midfield': 11000000.0, 'Second Striker': 20000000.0}\n"
     ]
    }
   ],
   "source": [
    "precoPorPosicao={}\n",
    "for a in position:\n",
    "    precoPorPosicao[a]=Linha[Linha.Position==a].Price.mean()\n",
    "    \n",
    "print(precoPorPosicao)"
   ]
  },
  {
   "cell_type": "code",
   "execution_count": 660,
   "metadata": {},
   "outputs": [
    {
     "data": {
      "text/plain": [
       "Centre-Back           68\n",
       "Central Midfield      53\n",
       "Centre-Forward        44\n",
       "Right-Back            34\n",
       "Left-Back             30\n",
       "Defensive Midfield    29\n",
       "Left Winger           22\n",
       "Right Winger          20\n",
       "Attacking Midfield    16\n",
       "Left Midfield          6\n",
       "Right Midfield         2\n",
       "Second Striker         1\n",
       "Name: Position, dtype: int64"
      ]
     },
     "execution_count": 660,
     "metadata": {},
     "output_type": "execute_result"
    }
   ],
   "source": [
    "Linha.Position.value_counts()"
   ]
  },
  {
   "cell_type": "code",
   "execution_count": 667,
   "metadata": {},
   "outputs": [
    {
     "name": "stdout",
     "output_type": "stream",
     "text": [
      "A posição com o MAIOR preço médio, com mais de 6 jogadores presentes na posição, são os Left Winger com um preço médio de aproximadamente 36227273.0 dollares\n",
      "A posição com o MENOR preço médio, com mais de 6 jogadores presentes na posição, são os Right-Back com um preço médio de aproximadamente 13546324.0 dollares\n"
     ]
    }
   ],
   "source": [
    "highestPosition=''\n",
    "lowestPosition=''\n",
    "highestPrice=0\n",
    "lowestPrice=1000000000000000\n",
    "\n",
    "for key, value in precoPorPosicao.items() :\n",
    "    if key != 'Left Midfield' and key != 'Right Midfield' and key != 'Second Striker':\n",
    "        if value>highestPrice:\n",
    "            highestPrice=value\n",
    "            highestPosition=key\n",
    "        if value<lowestPrice:\n",
    "            lowestPrice=value\n",
    "            lowestPosition=key\n",
    "\n",
    "            \n",
    "print('A posição com o MAIOR preço médio, com mais de 6 jogadores presentes na posição, são os {} com um preço médio de aproximadamente {} dollares'.format(highestPosition,round(highestPrice,0)))\n",
    "print('A posição com o MENOR preço médio, com mais de 6 jogadores presentes na posição, são os {} com um preço médio de aproximadamente {} dollares'.format(lowestPosition,round(lowestPrice,0)))"
   ]
  },
  {
   "cell_type": "code",
   "execution_count": 674,
   "metadata": {},
   "outputs": [
    {
     "name": "stdout",
     "output_type": "stream",
     "text": [
      "Left Winger 39496753.11330675\n",
      "Left-Back 14083586.680711113\n"
     ]
    }
   ],
   "source": [
    "maior_desvio=''\n",
    "menor_desvio=''\n",
    "maior_desvio_num=0\n",
    "menor_desvio_num=100000000000000000\n",
    "\n",
    "for a in position:\n",
    "    if a != 'Left Midfield' and a != 'Right Midfield' and a != 'Second Striker':\n",
    "        if Linha[Linha.Position==a].Price.std() > maior_desvio_num:\n",
    "            maior_desvio=a\n",
    "            maior_desvio_num=Linha[Linha.Position==a].Price.std()\n",
    "        if Linha[Linha.Position==a].Price.std() < menor_desvio_num:\n",
    "            menor_desvio=a\n",
    "            menor_desvio_num=Linha[Linha.Position==a].Price.std()\n",
    "            \n",
    "print(maior_desvio, maior_desvio_num)\n",
    "print(menor_desvio, menor_desvio_num)"
   ]
  },
  {
   "cell_type": "code",
   "execution_count": 719,
   "metadata": {},
   "outputs": [
    {
     "name": "stdout",
     "output_type": "stream",
     "text": [
      "22\n"
     ]
    }
   ],
   "source": [
    "precoLW=[]\n",
    "precoLB=[]\n",
    "\n",
    "for a in Linha[Linha.Position=='Left Winger'].Price:\n",
    "    precoLW.append(a)\n",
    "    \n",
    "for a in Linha[Linha.Position=='Left-Back'].Price:\n",
    "    precoLB.append(a)\n",
    "    \n",
    "print(len(precoLW))"
   ]
  },
  {
   "cell_type": "code",
   "execution_count": 723,
   "metadata": {},
   "outputs": [
    {
     "name": "stdout",
     "output_type": "stream",
     "text": [
      "52\n"
     ]
    }
   ],
   "source": [
    "Position=[]\n",
    "PricesLWB=[]\n",
    "\n",
    "for a in range(22):\n",
    "    Position.append('Left Winger')\n",
    "for a in range(30):\n",
    "    Position.append('Left Back')\n",
    "    \n",
    "for a in precoLW:\n",
    "    PricesLWB.append(a)\n",
    "for a in precoLB:\n",
    "    PricesLWB.append(a)\n",
    "    \n",
    "print(len(PricesLWB))"
   ]
  },
  {
   "cell_type": "code",
   "execution_count": 726,
   "metadata": {},
   "outputs": [],
   "source": [
    "BoxplotDataLWB= pd.DataFrame()\n",
    "BoxplotDataLWB['Position']=Position\n",
    "BoxplotDataLWB['Price']=PricesLWB"
   ]
  },
  {
   "cell_type": "code",
   "execution_count": 727,
   "metadata": {},
   "outputs": [
    {
     "data": {
      "text/plain": [
       "<matplotlib.axes._subplots.AxesSubplot at 0x1a2611fd30>"
      ]
     },
     "execution_count": 727,
     "metadata": {},
     "output_type": "execute_result"
    },
    {
     "data": {
      "image/png": "[encoded data removed]",
      "text/plain": [
       "<Figure size 432x288 with 1 Axes>"
      ]
     },
     "metadata": {
      "needs_background": "light"
     },
     "output_type": "display_data"
    }
   ],
   "source": [
    "sns.boxplot(x='Position', y='Price', data=BoxplotDataLWB)"
   ]
  },
  {
   "cell_type": "markdown",
   "metadata": {},
   "source": [
    "Adicionalmente, a posição que tem maior desvio padrão em relação ao seu preço, em relação a todas com mais de 6 jogadores, são os Left Wingers enquanto os com menor desvio padrão são os Left Backs. Quando os preços de jogadores estão tão dispersos quanto no caso dos Left Wingers, isto pode afetar o potencial para acerto do modelo que será criado. Claro, existem diversas outras variaveis que ajudam a determinar o preço final, contudo uma dispersão tão grande não vai ajudar tanto este modelo."
   ]
  },
  {
   "cell_type": "markdown",
   "metadata": {},
   "source": [
    "# Dummies"
   ]
  },
  {
   "cell_type": "code",
   "execution_count": 565,
   "metadata": {},
   "outputs": [],
   "source": [
    "LinhaDummies_P=pd.get_dummies(Linha.Position)\n",
    "LinhaDummies_T=pd.get_dummies(Linha.Team)"
   ]
  },
  {
   "cell_type": "code",
   "execution_count": 566,
   "metadata": {},
   "outputs": [],
   "source": [
    "Linha_Dummies=pd.concat([Linha,LinhaDummies_P,LinhaDummies_T],axis='columns')"
   ]
  },
  {
   "cell_type": "code",
   "execution_count": 567,
   "metadata": {},
   "outputs": [],
   "source": [
    "Linha_Dummies=Linha_Dummies.drop(columns=['Position','Team'])"
   ]
  },
  {
   "cell_type": "markdown",
   "metadata": {},
   "source": [
    "Com esta função 'get_dummies' as duas variáveis qualitativas do dataset (time e posição de um jogador) são substituidas por representações quantitativa para posteriormente o RandomForest poder analisar os dados. Um novo dataset foi criado com as versões quantitativas da posição e time dos jogadores."
   ]
  },
  {
   "cell_type": "markdown",
   "metadata": {},
   "source": [
    "# Preparo para RandomForest"
   ]
  },
  {
   "cell_type": "code",
   "execution_count": 568,
   "metadata": {},
   "outputs": [],
   "source": [
    "columnsSelect_L=[]\n",
    "\n",
    "for a in Linha_Dummies.columns:\n",
    "    if a != 'Price' and a != 'Unnamed: 0':\n",
    "        columnsSelect_L.append(a)"
   ]
  },
  {
   "cell_type": "code",
   "execution_count": 569,
   "metadata": {},
   "outputs": [],
   "source": [
    "XLt=Linha_Dummies[columnsSelect_L]\n",
    "yLt=Linha_Dummies['Price']"
   ]
  },
  {
   "cell_type": "code",
   "execution_count": 570,
   "metadata": {},
   "outputs": [],
   "source": [
    "XLt_train, XLt_test, yLt_train, yLt_test = train_test_split(XLt, yLt, test_size=0.2)"
   ]
  },
  {
   "cell_type": "markdown",
   "metadata": {},
   "source": [
    "Nesta parte os dados para treino e para teste do algoritmo foram separados, com 80% dos dados utilizados para treinamento e 20% para teste. A variavel dependente, que está tentando ser prevista, foi definida como o preço do jogador. Este preço, portanto, depende de todas as outras variáveis presentes no dataset."
   ]
  },
  {
   "cell_type": "markdown",
   "metadata": {},
   "source": [
    "# Regression"
   ]
  },
  {
   "cell_type": "markdown",
   "metadata": {},
   "source": [
    "Em primeiro lugar foi tentado um modelo de regressão no RandomForest para prever o preço exato do jogador. "
   ]
  },
  {
   "cell_type": "code",
   "execution_count": 571,
   "metadata": {},
   "outputs": [
    {
     "name": "stderr",
     "output_type": "stream",
     "text": [
      "/Users/EduardoGoncalves/anaconda3/lib/python3.7/site-packages/sklearn/ensemble/forest.py:246: FutureWarning: The default value of n_estimators will change from 10 in version 0.20 to 100 in 0.22.\n",
      "  \"10 in version 0.20 to 100 in 0.22.\", FutureWarning)\n"
     ]
    },
    {
     "data": {
      "text/plain": [
       "RandomForestRegressor(bootstrap=True, criterion='mse', max_depth=None,\n",
       "           max_features='auto', max_leaf_nodes=None,\n",
       "           min_impurity_decrease=0.0, min_impurity_split=None,\n",
       "           min_samples_leaf=1, min_samples_split=2,\n",
       "           min_weight_fraction_leaf=0.0, n_estimators=10, n_jobs=2,\n",
       "           oob_score=False, random_state=None, verbose=0, warm_start=False)"
      ]
     },
     "execution_count": 571,
     "metadata": {},
     "output_type": "execute_result"
    }
   ],
   "source": [
    "modeloRegress = RandomForestRegressor(n_jobs=2)\n",
    "modeloRegress.fit(XLt_train,yLt_train)"
   ]
  },
  {
   "cell_type": "code",
   "execution_count": 586,
   "metadata": {},
   "outputs": [],
   "source": [
    "PredictLinhaTeste=pd.DataFrame()\n",
    "\n",
    "PredictLinhaTeste['Preco_Real']=yLt_test\n",
    "PredictLinhaTeste['Preco_Predict']=modeloRegress.predict(XLt_test)"
   ]
  },
  {
   "cell_type": "code",
   "execution_count": 587,
   "metadata": {},
   "outputs": [],
   "source": [
    "distancia=[]\n",
    "i=0\n",
    "\n",
    "while i<len(PredictLinhaTeste.Preco_Real):\n",
    "    dist=abs(PredictLinhaTeste.Preco_Real.iloc[i]-PredictLinhaTeste.Preco_Predict.iloc[i])\n",
    "    distancia.append(dist)\n",
    "    i+=1\n",
    "    \n",
    "soma=0\n",
    "\n",
    "for a in distancia:\n",
    "    soma+=a\n",
    "    \n",
    "media_distancia=soma/len(distancia)"
   ]
  },
  {
   "cell_type": "code",
   "execution_count": 588,
   "metadata": {
    "scrolled": true
   },
   "outputs": [
    {
     "name": "stdout",
     "output_type": "stream",
     "text": [
      "11924308.0\n"
     ]
    }
   ],
   "source": [
    "print(round(media_distancia,0))"
   ]
  },
  {
   "cell_type": "code",
   "execution_count": 591,
   "metadata": {},
   "outputs": [
    {
     "name": "stdout",
     "output_type": "stream",
     "text": [
      "20337403.846153848\n"
     ]
    }
   ],
   "source": [
    "print(yLt_train.mean())"
   ]
  },
  {
   "cell_type": "markdown",
   "metadata": {},
   "source": [
    "Claramente, nota-se que este modelo não é efetivo pois tem-se que a média dos preços dos jogadores é de cerca de 20 milhões, mas, utilizando-se o método do Mean Absolute Error (MAE), descobre-se que os valores previstos pelo RandomForest para o preço dos jogadores é aproximadamente 12 milhões distantes do seu valor real. Então outro modo de prever preço teve que ser criado."
   ]
  },
  {
   "cell_type": "markdown",
   "metadata": {},
   "source": [
    "# Modelo A, M, B"
   ]
  },
  {
   "cell_type": "markdown",
   "metadata": {},
   "source": [
    "O modelo A, M, B se refere a atribuir 'A' para os jogadores com preços altos, 'M' para jogadores com preços médios e 'B' para jogadores com preços baixos. O valor alto foi definido como um valor superior aos 75% dos primeiros valores (em ordem de menor a maior) do dataset inteiro, o baixo como aquele inferiore aos primeiros 25% e o médios entre estre ou igual a estes dois valores. Com isso, faz-se uma regressão para definir se o preço do jogador será 'A', 'M' ou 'B'."
   ]
  },
  {
   "cell_type": "code",
   "execution_count": 575,
   "metadata": {},
   "outputs": [
    {
     "data": {
      "text/plain": [
       "count    3.250000e+02\n",
       "mean     1.988562e+07\n",
       "std      2.477870e+07\n",
       "min      7.500000e+04\n",
       "25%      6.000000e+06\n",
       "50%      1.100000e+07\n",
       "75%      2.500000e+07\n",
       "max      1.500000e+08\n",
       "Name: Price, dtype: float64"
      ]
     },
     "execution_count": 575,
     "metadata": {},
     "output_type": "execute_result"
    }
   ],
   "source": [
    "Linha_Dummies.Price.describe()"
   ]
  },
  {
   "cell_type": "code",
   "execution_count": 576,
   "metadata": {},
   "outputs": [],
   "source": [
    "Linha_Dummies_Copy=Linha_Dummies"
   ]
  },
  {
   "cell_type": "code",
   "execution_count": 577,
   "metadata": {},
   "outputs": [],
   "source": [
    "priceC=[]\n",
    "for a in Linha_Dummies_Copy.Price:\n",
    "    if a >= 6000000.0 and a <= 25000000.0:\n",
    "        priceC.append('M')\n",
    "    elif a > 25000000.0:\n",
    "        priceC.append('A')\n",
    "    else:\n",
    "        priceC.append('B')"
   ]
  },
  {
   "cell_type": "code",
   "execution_count": 578,
   "metadata": {},
   "outputs": [],
   "source": [
    "Linha_Dummies_Copy['PriceC']=priceC"
   ]
  },
  {
   "cell_type": "code",
   "execution_count": 579,
   "metadata": {},
   "outputs": [],
   "source": [
    "XL_n=Linha_Dummies_Copy[columnsSelect_L]\n",
    "yL_n=Linha_Dummies_Copy['PriceC']\n",
    "\n",
    "XL_n_train, XL_n_test, yL_n_train, yL_n_test = train_test_split(XL_n, yL_n, test_size=0.2)"
   ]
  },
  {
   "cell_type": "code",
   "execution_count": 592,
   "metadata": {},
   "outputs": [
    {
     "name": "stdout",
     "output_type": "stream",
     "text": [
      "\n"
     ]
    },
    {
     "name": "stderr",
     "output_type": "stream",
     "text": [
      "/Users/EduardoGoncalves/anaconda3/lib/python3.7/site-packages/sklearn/ensemble/forest.py:246: FutureWarning: The default value of n_estimators will change from 10 in version 0.20 to 100 in 0.22.\n",
      "  \"10 in version 0.20 to 100 in 0.22.\", FutureWarning)\n"
     ]
    }
   ],
   "source": [
    "modeloClassifier= RandomForestClassifier(n_jobs=2)\n",
    "modeloClassifier.fit(XL_n_train,yL_n_train)\n",
    "print()"
   ]
  },
  {
   "cell_type": "code",
   "execution_count": 593,
   "metadata": {},
   "outputs": [],
   "source": [
    "PredictLinhaTeste=pd.DataFrame()\n",
    "\n",
    "PredictLinhaTeste['Preco_Real']=yL_n_test\n",
    "PredictLinhaTeste['Preco_Predict']=modeloClassifier.predict(XL_n_test)"
   ]
  },
  {
   "cell_type": "code",
   "execution_count": 582,
   "metadata": {},
   "outputs": [
    {
     "name": "stdout",
     "output_type": "stream",
     "text": [
      "50.76923076923077\n"
     ]
    }
   ],
   "source": [
    "acertos=0\n",
    "\n",
    "for a,b in enumerate(PredictLinhaTeste.Preco_Real):\n",
    "    if b==PredictLinhaTeste.Preco_Predict.iloc[a]:\n",
    "        acertos+=1\n",
    "        \n",
    "acuracia = acertos/len(PredictLinhaTeste.Preco_Real)\n",
    "\n",
    "print(acuracia*100)"
   ]
  },
  {
   "cell_type": "markdown",
   "metadata": {},
   "source": [
    "Com este modelo a accuracia do teste subiu. Neste caso houve cerca de 50% de acerto. Mesmo assim os valores não são muito altos. Portanto, tentou-se ou outro método."
   ]
  },
  {
   "cell_type": "markdown",
   "metadata": {},
   "source": [
    "# Modelo Misto"
   ]
  },
  {
   "cell_type": "markdown",
   "metadata": {},
   "source": [
    "O modelo misto é uma mistura de ambas formas. Primeiro é pego o valor previsto pelo primeiro método, com o valor exato do preço. Este preço então é convertido em 'A', 'M' ou 'B'. Isto então é comparado com os valores 'A', 'M' ou 'B' dos valores de teste para então se obter o resultado."
   ]
  },
  {
   "cell_type": "code",
   "execution_count": 583,
   "metadata": {},
   "outputs": [],
   "source": [
    "predictL=[]\n",
    "\n",
    "for a in modeloRegress.predict(XL_n_test):\n",
    "    if a >= 6000000.0 and a <= 25000000.0:\n",
    "        predictL.append('M')\n",
    "    elif a > 25000000.0:\n",
    "        predictL.append('A')\n",
    "    else:\n",
    "        predictL.append('B')"
   ]
  },
  {
   "cell_type": "code",
   "execution_count": 594,
   "metadata": {},
   "outputs": [],
   "source": [
    "PredictLinhaTeste=pd.DataFrame()\n",
    "\n",
    "PredictLinhaTeste['Preco_Real']=yL_n_test\n",
    "PredictLinhaTeste['Preco_Predict']=predictL"
   ]
  },
  {
   "cell_type": "code",
   "execution_count": 595,
   "metadata": {},
   "outputs": [
    {
     "name": "stdout",
     "output_type": "stream",
     "text": [
      "83.07692307692308\n"
     ]
    }
   ],
   "source": [
    "acertos=0\n",
    "\n",
    "for a,b in enumerate(PredictLinhaTeste.Preco_Real):\n",
    "    if b==PredictLinhaTeste.Preco_Predict.iloc[a]:\n",
    "        acertos+=1\n",
    "        \n",
    "acuracia = acertos/len(PredictLinhaTeste.Preco_Real)\n",
    "\n",
    "print(acuracia*100)"
   ]
  },
  {
   "cell_type": "markdown",
   "metadata": {},
   "source": [
    "Com este modelo a acuracia sobe significativamente para 83%. Considerando que o preço de um jogador tem innumeros fatores que influenciam, incluido muitos que não estão no dataset como tendencia de lesões, dados da carreira toda, em que times jogaram no passado, dribles, potencial, entre muitos outros, uma acurácia de 83% para este modelo é surpreendentemente positivo."
   ]
  }
 ],
 "metadata": {
  "kernelspec": {
   "display_name": "Python 3",
   "language": "python",
   "name": "python3"
  },
  "language_info": {
   "codemirror_mode": {
    "name": "ipython",
    "version": 3
   },
   "file_extension": ".py",
   "mimetype": "text/x-python",
   "name": "python",
   "nbconvert_exporter": "python",
   "pygments_lexer": "ipython3",
   "version": "3.7.1"
  }
 },
 "nbformat": 4,
 "nbformat_minor": 2
}
